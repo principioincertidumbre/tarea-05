{
 "cells": [
  {
   "cell_type": "code",
   "execution_count": null,
   "id": "a2da03e7-2e42-4ca6-b761-b3eb90fa1a45",
   "metadata": {},
   "outputs": [],
   "source": []
  }
 ],
 "metadata": {
  "kernelspec": {
   "display_name": "tarea_05 (Python 3.12)",
   "language": "python",
   "name": "tarea_05"
  },
  "language_info": {
   "codemirror_mode": {
    "name": "ipython",
    "version": 3
   },
   "file_extension": ".py",
   "mimetype": "text/x-python",
   "name": "python",
   "nbconvert_exporter": "python",
   "pygments_lexer": "ipython3",
   "version": "3.12.4"
  }
 },
 "nbformat": 4,
 "nbformat_minor": 5
}
