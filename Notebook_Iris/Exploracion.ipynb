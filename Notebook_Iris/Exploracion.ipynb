{
 "cells": [
  {
   "cell_type": "code",
   "execution_count": 1,
   "id": "a2da03e7-2e42-4ca6-b761-b3eb90fa1a45",
   "metadata": {},
   "outputs": [],
   "source": [
    "import pandas as pd\n",
    "import numpy as np"
   ]
  },
  {
   "cell_type": "code",
   "execution_count": 2,
   "id": "a34f820c-f362-4418-abba-216f424acd12",
   "metadata": {},
   "outputs": [],
   "source": [
    "df_iris = pd.read_csv(\"https://raw.githubusercontent.com/plotly/datasets/master/iris-data.csv\")"
   ]
  },
  {
   "cell_type": "code",
   "execution_count": 3,
   "id": "de31e737-edc4-40ed-98fd-63ac1a24edfa",
   "metadata": {},
   "outputs": [
    {
     "data": {
      "text/plain": [
       "(150, 5)"
      ]
     },
     "execution_count": 3,
     "metadata": {},
     "output_type": "execute_result"
    }
   ],
   "source": [
    "# Muestra el tamaño del dataset iris\n",
    "df_iris.shape"
   ]
  },
  {
   "cell_type": "code",
   "execution_count": 4,
   "id": "992e9a9c-8bce-4722-931e-1ea069995483",
   "metadata": {},
   "outputs": [
    {
     "data": {
      "text/html": [
       "<div>\n",
       "<style scoped>\n",
       "    .dataframe tbody tr th:only-of-type {\n",
       "        vertical-align: middle;\n",
       "    }\n",
       "\n",
       "    .dataframe tbody tr th {\n",
       "        vertical-align: top;\n",
       "    }\n",
       "\n",
       "    .dataframe thead th {\n",
       "        text-align: right;\n",
       "    }\n",
       "</style>\n",
       "<table border=\"1\" class=\"dataframe\">\n",
       "  <thead>\n",
       "    <tr style=\"text-align: right;\">\n",
       "      <th></th>\n",
       "      <th>sepal length</th>\n",
       "      <th>sepal width</th>\n",
       "      <th>petal length</th>\n",
       "      <th>petal width</th>\n",
       "      <th>class</th>\n",
       "    </tr>\n",
       "  </thead>\n",
       "  <tbody>\n",
       "    <tr>\n",
       "      <th>0</th>\n",
       "      <td>5.1</td>\n",
       "      <td>3.5</td>\n",
       "      <td>1.4</td>\n",
       "      <td>0.2</td>\n",
       "      <td>Iris-setosa</td>\n",
       "    </tr>\n",
       "    <tr>\n",
       "      <th>1</th>\n",
       "      <td>4.9</td>\n",
       "      <td>3.0</td>\n",
       "      <td>1.4</td>\n",
       "      <td>0.2</td>\n",
       "      <td>Iris-setosa</td>\n",
       "    </tr>\n",
       "    <tr>\n",
       "      <th>2</th>\n",
       "      <td>4.7</td>\n",
       "      <td>3.2</td>\n",
       "      <td>1.3</td>\n",
       "      <td>0.2</td>\n",
       "      <td>Iris-setosa</td>\n",
       "    </tr>\n",
       "    <tr>\n",
       "      <th>3</th>\n",
       "      <td>4.6</td>\n",
       "      <td>3.1</td>\n",
       "      <td>1.5</td>\n",
       "      <td>0.2</td>\n",
       "      <td>Iris-setosa</td>\n",
       "    </tr>\n",
       "    <tr>\n",
       "      <th>4</th>\n",
       "      <td>5.0</td>\n",
       "      <td>3.6</td>\n",
       "      <td>1.4</td>\n",
       "      <td>0.2</td>\n",
       "      <td>Iris-setosa</td>\n",
       "    </tr>\n",
       "  </tbody>\n",
       "</table>\n",
       "</div>"
      ],
      "text/plain": [
       "   sepal length  sepal width  petal length  petal width        class\n",
       "0           5.1          3.5           1.4          0.2  Iris-setosa\n",
       "1           4.9          3.0           1.4          0.2  Iris-setosa\n",
       "2           4.7          3.2           1.3          0.2  Iris-setosa\n",
       "3           4.6          3.1           1.5          0.2  Iris-setosa\n",
       "4           5.0          3.6           1.4          0.2  Iris-setosa"
      ]
     },
     "execution_count": 4,
     "metadata": {},
     "output_type": "execute_result"
    }
   ],
   "source": [
    "#Muestra las primeras cinco filas y permite además ver las cinco columnas que componen el dataset iris\n",
    "df_iris.head()"
   ]
  },
  {
   "cell_type": "code",
   "execution_count": 5,
   "id": "00b7decf-8cad-405a-a10d-85918af828d9",
   "metadata": {},
   "outputs": [
    {
     "name": "stdout",
     "output_type": "stream",
     "text": [
      "<class 'pandas.core.frame.DataFrame'>\n",
      "RangeIndex: 150 entries, 0 to 149\n",
      "Data columns (total 5 columns):\n",
      " #   Column        Non-Null Count  Dtype  \n",
      "---  ------        --------------  -----  \n",
      " 0   sepal length  150 non-null    float64\n",
      " 1   sepal width   150 non-null    float64\n",
      " 2   petal length  150 non-null    float64\n",
      " 3   petal width   150 non-null    float64\n",
      " 4   class         150 non-null    object \n",
      "dtypes: float64(4), object(1)\n",
      "memory usage: 6.0+ KB\n"
     ]
    }
   ],
   "source": [
    "df_iris.info()"
   ]
  },
  {
   "cell_type": "markdown",
   "id": "97eafc92-c52e-4433-b11a-af08526d4b48",
   "metadata": {},
   "source": [
    "El dataset iris tiene cinco columnas, las cuales son: **sepal length**, que representa el largo del sépalo de las plantas del género *Iris*; **sepal width**, que representa el ancho del sépalo de las plantas anteriormente mencionadas; **petal length**, que representa el largo de los pétalos de las flores *Iris*; **petal width**, que representa el ancho de los pétalos de las plantas *Iris*; y **class** que representa a las tres especies del género *Iris* (*Iris setosa*, *Iris versicolor* e *Iris virginica*). Las columnas numéricas contienen datos del tipo float, mientras que la columna **class** contiene datos del tipo string, el cual es considerado como un dato de tipo objeto en el dataframe. "
   ]
  },
  {
   "cell_type": "code",
   "execution_count": 6,
   "id": "d08177f2-7a47-47b1-8674-e71ca9ac8b3e",
   "metadata": {},
   "outputs": [
    {
     "data": {
      "text/plain": [
       "sepal length    0\n",
       "sepal width     0\n",
       "petal length    0\n",
       "petal width     0\n",
       "class           0\n",
       "dtype: int64"
      ]
     },
     "execution_count": 6,
     "metadata": {},
     "output_type": "execute_result"
    }
   ],
   "source": [
    "df_iris.isna().sum()"
   ]
  },
  {
   "cell_type": "markdown",
   "id": "1733c049-3f39-451e-b1c9-cdda1bf0cc57",
   "metadata": {},
   "source": [
    "No existen **valores nulos** en las cinco columnas del dataset Iris."
   ]
  },
  {
   "cell_type": "code",
   "execution_count": 7,
   "id": "b598ae6b-5fe8-456c-a267-c24b215bfbee",
   "metadata": {},
   "outputs": [
    {
     "data": {
      "text/html": [
       "<div>\n",
       "<style scoped>\n",
       "    .dataframe tbody tr th:only-of-type {\n",
       "        vertical-align: middle;\n",
       "    }\n",
       "\n",
       "    .dataframe tbody tr th {\n",
       "        vertical-align: top;\n",
       "    }\n",
       "\n",
       "    .dataframe thead th {\n",
       "        text-align: right;\n",
       "    }\n",
       "</style>\n",
       "<table border=\"1\" class=\"dataframe\">\n",
       "  <thead>\n",
       "    <tr style=\"text-align: right;\">\n",
       "      <th></th>\n",
       "      <th>sepal length</th>\n",
       "      <th>sepal width</th>\n",
       "      <th>petal length</th>\n",
       "      <th>petal width</th>\n",
       "    </tr>\n",
       "  </thead>\n",
       "  <tbody>\n",
       "    <tr>\n",
       "      <th>count</th>\n",
       "      <td>150.000000</td>\n",
       "      <td>150.000000</td>\n",
       "      <td>150.000000</td>\n",
       "      <td>150.000000</td>\n",
       "    </tr>\n",
       "    <tr>\n",
       "      <th>mean</th>\n",
       "      <td>5.843333</td>\n",
       "      <td>3.054000</td>\n",
       "      <td>3.758667</td>\n",
       "      <td>1.198667</td>\n",
       "    </tr>\n",
       "    <tr>\n",
       "      <th>std</th>\n",
       "      <td>0.828066</td>\n",
       "      <td>0.433594</td>\n",
       "      <td>1.764420</td>\n",
       "      <td>0.763161</td>\n",
       "    </tr>\n",
       "    <tr>\n",
       "      <th>min</th>\n",
       "      <td>4.300000</td>\n",
       "      <td>2.000000</td>\n",
       "      <td>1.000000</td>\n",
       "      <td>0.100000</td>\n",
       "    </tr>\n",
       "    <tr>\n",
       "      <th>25%</th>\n",
       "      <td>5.100000</td>\n",
       "      <td>2.800000</td>\n",
       "      <td>1.600000</td>\n",
       "      <td>0.300000</td>\n",
       "    </tr>\n",
       "    <tr>\n",
       "      <th>50%</th>\n",
       "      <td>5.800000</td>\n",
       "      <td>3.000000</td>\n",
       "      <td>4.350000</td>\n",
       "      <td>1.300000</td>\n",
       "    </tr>\n",
       "    <tr>\n",
       "      <th>75%</th>\n",
       "      <td>6.400000</td>\n",
       "      <td>3.300000</td>\n",
       "      <td>5.100000</td>\n",
       "      <td>1.800000</td>\n",
       "    </tr>\n",
       "    <tr>\n",
       "      <th>max</th>\n",
       "      <td>7.900000</td>\n",
       "      <td>4.400000</td>\n",
       "      <td>6.900000</td>\n",
       "      <td>2.500000</td>\n",
       "    </tr>\n",
       "  </tbody>\n",
       "</table>\n",
       "</div>"
      ],
      "text/plain": [
       "       sepal length  sepal width  petal length  petal width\n",
       "count    150.000000   150.000000    150.000000   150.000000\n",
       "mean       5.843333     3.054000      3.758667     1.198667\n",
       "std        0.828066     0.433594      1.764420     0.763161\n",
       "min        4.300000     2.000000      1.000000     0.100000\n",
       "25%        5.100000     2.800000      1.600000     0.300000\n",
       "50%        5.800000     3.000000      4.350000     1.300000\n",
       "75%        6.400000     3.300000      5.100000     1.800000\n",
       "max        7.900000     4.400000      6.900000     2.500000"
      ]
     },
     "execution_count": 7,
     "metadata": {},
     "output_type": "execute_result"
    }
   ],
   "source": [
    "df_iris.describe()"
   ]
  },
  {
   "cell_type": "markdown",
   "id": "d1547f9f-1bba-4cca-9c36-27720a886c84",
   "metadata": {},
   "source": [
    "La columna **sepal length** contiene 150 valores numéricos del tipo float. El **valor promedio** del largo del sépalo es igual a 5,84 cm. La **desviación estándar** de los valores del largo de sépalo es igual a 0,83 cm. El **valor mínimo** del largo de sépalo es igual a 4,3 cm, mientras que el **valor máximo** del largo de sépalo es igual a 7,9 cm, por lo tanto, su **rango** es igual a 3,6 cm. El valor del **percentil 25** es igual a 5,1 cm, mientras que el valor del **percentil 50** o **mediana** es igual a 5,8 cm, y el valor del **percentil 75** es igual a 6,4 cm.\n",
    "\n",
    "La columna **sepal width** contiene 150 valores numéricos del tipo float. El **valor promedio** del ancho del sépalo es igual a 3,05 cm. La **desviación estándar** de los valores del ancho de sépalo es igual a 0,43 cm. El **valor mínimo** del ancho de sépalo es igual a 2,0 cm, mientras que el **valor máximo** del ancho de sépalo es igual a 4,4 cm, por lo tanto, su **rango** es igual a 2,4 cm. El valor del **percentil 25** es igual a 2,8 cm, mientras que el valor del **percentil 50** o **mediana** es igual a 3,0 cm, y el valor del **percentil 75** es igual a 3,3 cm.\n",
    "\n",
    "La columna **petal length** contiene 150 valores numéricos del tipo float. El **valor promedio** del largo de los pétalos es igual a 3,76 cm. La **desviación estándar** de los valores del largo de los pétalos es igual a 1,76 cm. El **valor mínimo** del largo de los pétalos es igual a 1,0 cm, mientras que el **valor máximo** del largo de los pétalos es igual a 6,9 cm, por lo tanto, su **rango** es igual a 5,9 cm. El valor del **percentil 25** es igual a 1,6 cm, mientras que el valor del **percentil 50** o **mediana** es igual a 4,4 cm, y el valor del **percentil 75** es igual a 5,1 cm.\n",
    "\n",
    "La columna **petal width** contiene 150 valores numéricos del tipo float. El **valor promedio** del ancho de los pétalos es igual a 1,20 cm. La **desviación estándar** de los valores del ancho de los pétalos es igual a 0,76 cm. El **valor mínimo** del ancho de los pétalos es igual a 0,1 cm, mientras que el **valor máximo** del ancho de los pétalos es igual a 2,5 cm, por lo tanto, su **rango** es igual a 2,4 cm. El valor del **percentil 25** es igual a 0,3 cm, mientras que el valor del **percentil 50** o **mediana** es igual a 1,3 cm, y el valor del **percentil 75** es igual a 1,8 cm.\n"
   ]
  },
  {
   "cell_type": "code",
   "execution_count": 8,
   "id": "b17fdd66-c58b-4523-86a6-97c08f106dea",
   "metadata": {},
   "outputs": [
    {
     "data": {
      "text/plain": [
       "class\n",
       "Iris-setosa        50\n",
       "Iris-versicolor    50\n",
       "Iris-virginica     50\n",
       "Name: count, dtype: int64"
      ]
     },
     "execution_count": 8,
     "metadata": {},
     "output_type": "execute_result"
    }
   ],
   "source": [
    "df_iris[\"class\"].value_counts()"
   ]
  },
  {
   "cell_type": "markdown",
   "id": "f7aba11a-9146-4180-a856-c7547060d1a6",
   "metadata": {},
   "source": [
    "Existen 50 filas para la flor *Iris-setosa*, 50 filas para la flor *Iris-versicolor* y 50 filas para la flor *Iris-virginica*."
   ]
  },
  {
   "cell_type": "code",
   "execution_count": null,
   "id": "9fccdcdd-a68b-4d9f-8495-5178492ec7b1",
   "metadata": {},
   "outputs": [],
   "source": []
  }
 ],
 "metadata": {
  "kernelspec": {
   "display_name": "tarea_05 (Python 3.12)",
   "language": "python",
   "name": "tarea_05"
  },
  "language_info": {
   "codemirror_mode": {
    "name": "ipython",
    "version": 3
   },
   "file_extension": ".py",
   "mimetype": "text/x-python",
   "name": "python",
   "nbconvert_exporter": "python",
   "pygments_lexer": "ipython3",
   "version": "3.12.4"
  }
 },
 "nbformat": 4,
 "nbformat_minor": 5
}
